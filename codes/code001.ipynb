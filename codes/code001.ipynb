{
 "cells": [
  {
   "cell_type": "markdown",
   "metadata": {},
   "source": [
    "# Estadística descriptiva vs Estadística inferencial"
   ]
  },
  {
   "cell_type": "markdown",
   "metadata": {},
   "source": [
    "## Estadística descriptiva:\n",
    "Es el proceso de recolectar información o registros (datos) a medida que pasa el tiempo. De esos datos que se van recolectando están clasificados por categorias o parametros para después hacer uso de ellos. Así sobre esos datos podemos crear metricas sencillas para entender el comportamiento o desempeño de algo en concreto sin tener que estar observando toda la información. **SIMPLEMENTE SE TRATA DE RESUMIR INFORMACIÓN**\n",
    "\n",
    "## Estadística inferencial:\n",
    "Esta asociada cómo dice su nombre a hacer inferencias. Estas *inferencias* normalmente están asociadas con predecir el futuro, entonces de cimos que inferencias es; deducir, sacar conclusiones de cosas que pueden pasar con base en los eventos / datos que ya tenemos disponible."
   ]
  },
  {
   "cell_type": "markdown",
   "metadata": {},
   "source": [
    "## Uso de la estadística\n",
    "En general la estadística se usa para caracterizar ciertas aplicaciones, y así poder establecer métricas para poder ver el desempeño resumido de una manera sencilla y fácil de entender.   \n",
    "Hay cosas buenas y cosas malas de esto, porque resulta que **podemos mentir con este tipo de estadísticas**.\n",
    "\n",
    "La estadística a pesar de ser medible y apoyarse de una ciencia exacta, como lo es la matemática. Tiene un problema que es; **¿cómo defino lo que es correcto o no?**, es decir **¿cómo definir métricas que me digan cuál es el mejor resultado?**, y la definición misma \"el mejor resultado\", puede ser diferente para cada persona.   \n",
    "\n",
    "Para una persona la manera de hacer la mejor estadística puede ser midiendo el rendimiento, para otra puede ser medir las interacciones. Es decir aunque exista un rumbo de aplicación, la forma en establecer métricas es diferente para cada persona y esta bien, solo que cada métrica me dará una perspectiva de una misma aplicación. Entonces eso se puede prestar a que podamos mentir con estadística a veces, porque solo mostramos una perspectiva de la situación (puede ser algo que nos convenga a nosotros) entonces sobre esas definiciones hacemos calculos precisos.\n",
    "\n",
    ">Con frecuencia construimos un caso estadístico con datos imperfectos, como resultado hay numerosas razones por las cuales individuos intelectuales respetables pueden no estar de acuerdo sobre los resultados estadísticos.\n",
    "**El gran problema de la estadística descriptiva** - ***Naked Statistics, Charles Wheelan***\n",
    "\n",
    "Por ejemplo en el caso de la política, un partido puede decir; *\"La economia esta bien, porque estas estadísticas lo dicen\"*, pero puede que otro diga *\"No la economía está mal porque estas otras estadísticas, dicen lo contrario\"*, entonces ¿Quién está correcto? pues puede que ambos, porque depende de la perspectiva de cómo defina cada partido lo que es una buena economia y cada métrica que establezca para sustentarlo. Entonces todas esas métricas hacen referencia a lo que es la estadística descriptiva."
   ]
  },
  {
   "cell_type": "markdown",
   "metadata": {},
   "source": [
    "## ¿Por qué aprender estadística?\n",
    "- Resumir grandes cantidades de información.\n",
    "- Tomar mejores decisiones (¿o peores?)\n",
    "- Responder preguntas con relevancia social.\n",
    "- Reconocer patrones en los datos.\n",
    "- Descubrir a quienes usan estas herramientas con mal fin.\n",
    "\n",
    "**Resumir grandes volumenes** de información siempre es útil porque nos ayuda a tomar decisiones y tener un panorama claro.    \n",
    "**Responder preguntas de relevancia social** digamos que hablemos de economia, la estadística descriptiva siempre se usa para caracterizar un país y saber cómo esta, cómo esta la economía, cómo esta la desigualdad. Aspectos sociales siempre tienen una respuesta con base a estadisticos descriptivos.    \n",
    "**Reconocer patrones en los datos** *esto es parte de la estadística inferencial* y es muy importante porque nos ayuda a entender el panorama de algunas situaciones, y predecir el futuro o lo que pueda pasar.    \n",
    "**Descubrir mentiras** nos ayuda a saber que siempre los estadisticos descriptivos nos dan un punto de vista y que existe perdida de información, entonces hay que tener cuidado, entender bien los conceptos de estadística y así poder discernir que estadísticos dan veracidad y cuales no."
   ]
  }
 ],
 "metadata": {
  "language_info": {
   "name": "python"
  }
 },
 "nbformat": 4,
 "nbformat_minor": 2
}

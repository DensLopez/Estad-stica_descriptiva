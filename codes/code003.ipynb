{
 "cells": [
  {
   "cell_type": "markdown",
   "metadata": {},
   "source": [
    "# Plan del curso"
   ]
  },
  {
   "cell_type": "markdown",
   "metadata": {},
   "source": [
    "## Ingesta de datos y validación\n",
    "- Cuales son los tipos de datos con los que trabajamos, de acuerdo al conjunto de datos que tengamos.\n",
    "\n",
    "- Definir el pipeline o flujo de procesamiento de esos datos, ¿qué es lo que necesitamos hacerle a estos datos para que nos sean útiles? Porque puede haber datos que requieran cambios, normalización, escalamiento elementos comunes en la ciencia de datos.\n",
    "\n",
    "En resumen cuales son los elementos de estadística descriptiva que se usan para la ingesta de datos."
   ]
  },
  {
   "cell_type": "markdown",
   "metadata": {},
   "source": [
    "## Preparación de los datos\n",
    "Pasando a el entrenamiento del modelo pasaremos a hacer un analisis exploratorio de los datos, pero ¿qué significa eso? Esto es una de las bases y nucleo de la estadistica descriptiva en precisamente ciencia de datos.\n",
    "Identicar correlaciones en los datos y con base en eso hacer posibles reducciones de datos para un proposito especifico de un modelo o lo que sea.   \n",
    "Los estadisticos para la exploración y la analitica. Estos serán los temas centrales del curso:\n",
    "- ¿Cómo uso la estadística para hacer la ingesta y procesamiento de los datos?\n",
    "  \n",
    "- ¿Cómo uso la estadística para hacer la analitica y exporación necesaria para pasar a un modelo de machine learning o sacar insights de valor?"
   ]
  }
 ],
 "metadata": {
  "kernelspec": {
   "display_name": "base",
   "language": "python",
   "name": "python3"
  },
  "language_info": {
   "codemirror_mode": {
    "name": "ipython",
    "version": 3
   },
   "file_extension": ".py",
   "mimetype": "text/x-python",
   "name": "python",
   "nbconvert_exporter": "python",
   "pygments_lexer": "ipython3",
   "version": "3.12.3"
  }
 },
 "nbformat": 4,
 "nbformat_minor": 2
}
